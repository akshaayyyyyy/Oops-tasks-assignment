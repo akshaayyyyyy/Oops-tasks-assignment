{
 "cells": [
  {
   "cell_type": "markdown",
   "id": "91ab613d-8b5e-4688-bf76-75eeafa3c592",
   "metadata": {},
   "source": [
    "Q1, Create a vehicle class with an init method having instance variables as name_of_vehicle, max_speed\n",
    "and average_of_vehicle."
   ]
  },
  {
   "cell_type": "code",
   "execution_count": 1,
   "id": "8a98c37f-b594-4cf9-b0cd-d4b2769af90f",
   "metadata": {},
   "outputs": [],
   "source": [
    "class vehicle:\n",
    "    def __init__(self,name_of_vehicle, max_speed, average_of_vehicle):\n",
    "        self.name_of_vehicle = name_of_vehicle\n",
    "        self.max_speed = max_speed\n",
    "        self.average_of_vehicle = average_of_vehicle\n",
    "    def return_to_vehicle(self):\n",
    "        return self.name_of_vehicle, self.max_speed, self.average_of_vehicle"
   ]
  },
  {
   "cell_type": "code",
   "execution_count": 2,
   "id": "da8d30c6-ed1f-4e59-b04d-a0b5e40cb92d",
   "metadata": {},
   "outputs": [],
   "source": [
    "showroom = vehicle(\"tata\", 100, 45)"
   ]
  },
  {
   "cell_type": "code",
   "execution_count": 3,
   "id": "aed33d2a-603c-4051-9610-7d618b237553",
   "metadata": {},
   "outputs": [
    {
     "data": {
      "text/plain": [
       "('tata', 100, 45)"
      ]
     },
     "execution_count": 3,
     "metadata": {},
     "output_type": "execute_result"
    }
   ],
   "source": [
    "showroom.return_to_vehicle()"
   ]
  },
  {
   "cell_type": "code",
   "execution_count": null,
   "id": "d94acbb6-f08e-4a2c-9e98-e7343dac58a2",
   "metadata": {},
   "outputs": [],
   "source": []
  },
  {
   "cell_type": "markdown",
   "id": "a489b559-9a04-4f0b-ad95-b93c1cda98c7",
   "metadata": {},
   "source": [
    "Q2. Create a child class car from the vehicle class created in Que 1, which will inherit the vehicle class.\n",
    "Create a method named seating_capacity which takes capacity as an argument and returns the name of\n",
    "the vehicle and its seating capacity."
   ]
  },
  {
   "cell_type": "code",
   "execution_count": 38,
   "id": "410b075f-bc2c-4b7e-92cd-15cd48cd50bd",
   "metadata": {},
   "outputs": [],
   "source": [
    "class vehicle:\n",
    "    def name_of_vehicle(self):\n",
    "        return \"tata\"\n",
    "        \n",
    "        \n",
    "        "
   ]
  },
  {
   "cell_type": "code",
   "execution_count": 39,
   "id": "142902af-e19a-4a67-9b09-666a7e0d54dc",
   "metadata": {},
   "outputs": [],
   "source": [
    "class capacity(vehicle):\n",
    "    def seating_capacity(self):\n",
    "        return \"8\""
   ]
  },
  {
   "cell_type": "code",
   "execution_count": 40,
   "id": "1cbda34f-146a-4719-8b99-9fdb02af16ac",
   "metadata": {},
   "outputs": [],
   "source": [
    "class child_class_car(capacity):\n",
    "    pass"
   ]
  },
  {
   "cell_type": "code",
   "execution_count": 42,
   "id": "44f7f080-9f62-404b-8d1e-0361a156cf84",
   "metadata": {},
   "outputs": [],
   "source": [
    "child_car_obj = child_class_car()"
   ]
  },
  {
   "cell_type": "code",
   "execution_count": 44,
   "id": "651b7fea-98e1-4fb5-b56b-2eff07d2d549",
   "metadata": {},
   "outputs": [
    {
     "data": {
      "text/plain": [
       "'tata'"
      ]
     },
     "execution_count": 44,
     "metadata": {},
     "output_type": "execute_result"
    }
   ],
   "source": [
    "child_car_obj.name_of_vehicle() "
   ]
  },
  {
   "cell_type": "code",
   "execution_count": 45,
   "id": "87c21110-2293-400a-8cdd-1223b017f0a3",
   "metadata": {},
   "outputs": [
    {
     "data": {
      "text/plain": [
       "'8'"
      ]
     },
     "execution_count": 45,
     "metadata": {},
     "output_type": "execute_result"
    }
   ],
   "source": [
    "child_car_obj.seating_capacity()"
   ]
  },
  {
   "cell_type": "code",
   "execution_count": null,
   "id": "c9eaaecf-592c-44c3-a920-3b01f946be98",
   "metadata": {},
   "outputs": [],
   "source": []
  },
  {
   "cell_type": "markdown",
   "id": "15e56518-f781-44fc-a349-5fef82f73f95",
   "metadata": {},
   "source": [
    "Q3. What is multiple inheritance? Write a python code to demonstrate multiple inheritance."
   ]
  },
  {
   "cell_type": "markdown",
   "id": "a55bc6d0-ad73-4fdb-a0a5-4fd49d374877",
   "metadata": {},
   "source": [
    "If a child class is inheriting the properties of a single other class, we call it single inheritance. However, if a child class inherits from more than one class, i.e. this child class is derived from multiple classes, we call it multiple inheritance in Python."
   ]
  },
  {
   "cell_type": "code",
   "execution_count": 46,
   "id": "38041de6-14e4-4084-ba2f-4ce6b2edfd33",
   "metadata": {},
   "outputs": [],
   "source": [
    "class pwskills:\n",
    "    def student(self):\n",
    "        return \"this is my course\""
   ]
  },
  {
   "cell_type": "code",
   "execution_count": 49,
   "id": "77cf8af8-bb11-4cfe-bd38-fbbc571ec371",
   "metadata": {},
   "outputs": [],
   "source": [
    "class data_science:\n",
    "    def data_science_course(self):\n",
    "        return \"this is my data science course\""
   ]
  },
  {
   "cell_type": "code",
   "execution_count": 50,
   "id": "5cc80459-2352-40e9-998a-3811877384ff",
   "metadata": {},
   "outputs": [],
   "source": [
    "class dsc(pwskills , data_science):\n",
    "    pass"
   ]
  },
  {
   "cell_type": "code",
   "execution_count": 51,
   "id": "4809ef2e-2fa1-453b-9f8d-1bf4309ea14d",
   "metadata": {},
   "outputs": [],
   "source": [
    "my_course = dsc()"
   ]
  },
  {
   "cell_type": "code",
   "execution_count": 53,
   "id": "80080475-a06c-40e8-b8bb-b0b041c10813",
   "metadata": {},
   "outputs": [
    {
     "data": {
      "text/plain": [
       "'this is my course'"
      ]
     },
     "execution_count": 53,
     "metadata": {},
     "output_type": "execute_result"
    }
   ],
   "source": [
    "my_course.student()"
   ]
  },
  {
   "cell_type": "code",
   "execution_count": 54,
   "id": "23840ee0-ae73-416e-a647-37dd5e7c6a6c",
   "metadata": {},
   "outputs": [
    {
     "data": {
      "text/plain": [
       "'this is my data science course'"
      ]
     },
     "execution_count": 54,
     "metadata": {},
     "output_type": "execute_result"
    }
   ],
   "source": [
    "my_course.data_science_course()"
   ]
  },
  {
   "cell_type": "code",
   "execution_count": null,
   "id": "e27e1155-f709-4a21-b00b-7ccd45c6f7e6",
   "metadata": {},
   "outputs": [],
   "source": []
  },
  {
   "cell_type": "markdown",
   "id": "e042e713-0c69-4fe4-9b89-d32599c55c16",
   "metadata": {},
   "source": [
    "Q4. What are getter and setter in python? Create a class and create a getter and a setter method in this \n",
    "class."
   ]
  },
  {
   "cell_type": "markdown",
   "id": "bd8fda3a-07f5-4cef-90c0-3dc0e54c646e",
   "metadata": {},
   "source": [
    "Setter: A method that allows you to set or mutate the value of an attribute in a class.\n",
    "\n",
    "\n",
    "Getter: A method that allows you to access an attribute in a given class."
   ]
  },
  {
   "cell_type": "code",
   "execution_count": 10,
   "id": "da838639-c3d0-4eef-8565-cc4148763cd1",
   "metadata": {
    "scrolled": true,
    "tags": []
   },
   "outputs": [],
   "source": [
    "class student :\n",
    "    \n",
    "    def set_name (self , name):\n",
    "        self.__name = name\n",
    "    def get_name (self):\n",
    "        return self.__name\n",
    "    \n",
    "    def set_marks (self , marks):\n",
    "        self.__marks = marks\n",
    "    def get_marks (self):\n",
    "        return self.__marks\n",
    "        \n",
    "    def display (self):\n",
    "        print (\"name:\" , self.__name)\n",
    "        print (\"marks:\" , self.__marks)"
   ]
  },
  {
   "cell_type": "code",
   "execution_count": 11,
   "id": "938df7b7-d583-495e-b0e5-39d5d570bc08",
   "metadata": {},
   "outputs": [],
   "source": [
    "s = student()"
   ]
  },
  {
   "cell_type": "code",
   "execution_count": 12,
   "id": "5d010b1e-85b8-4db8-900c-be5c44d0f862",
   "metadata": {},
   "outputs": [],
   "source": [
    "s.set_name(\"akshay\")"
   ]
  },
  {
   "cell_type": "code",
   "execution_count": 13,
   "id": "7a908f77-eb0d-4f0c-a986-3e915cd1d9c4",
   "metadata": {},
   "outputs": [],
   "source": [
    "s.set_marks(99.99)"
   ]
  },
  {
   "cell_type": "code",
   "execution_count": 15,
   "id": "14247d30-84ff-49e6-9634-f7b383b2f42a",
   "metadata": {},
   "outputs": [
    {
     "name": "stdout",
     "output_type": "stream",
     "text": [
      "name: akshay\n",
      "marks: 99.99\n"
     ]
    }
   ],
   "source": [
    "s.display()"
   ]
  },
  {
   "cell_type": "code",
   "execution_count": null,
   "id": "3939e715-14ea-44e3-9a71-f10e66f41450",
   "metadata": {},
   "outputs": [],
   "source": []
  },
  {
   "cell_type": "markdown",
   "id": "b8a83d98-5196-40d2-9175-1c611363db0f",
   "metadata": {},
   "source": [
    "Q5.What is method overriding in python? Write a python code to demonstrate method overriding"
   ]
  },
  {
   "cell_type": "markdown",
   "id": "b25dff52-f7c6-4eff-b08f-7a14974b7eb7",
   "metadata": {},
   "source": [
    "Whenever we writing method name with same signature in parent and child class called Method Overriding"
   ]
  },
  {
   "cell_type": "code",
   "execution_count": 1,
   "id": "a5105469-eee3-4425-821b-bfbf8db909a9",
   "metadata": {},
   "outputs": [],
   "source": [
    "class test1:\n",
    "    def test_exam(self):\n",
    "        print (\"this is my exam\")"
   ]
  },
  {
   "cell_type": "code",
   "execution_count": 3,
   "id": "abc1fe0d-8a22-4512-944e-f13cb90267b6",
   "metadata": {},
   "outputs": [],
   "source": [
    "class test2(test1):\n",
    "    def test_exam(self):\n",
    "        print (\"this is my new exam\")"
   ]
  },
  {
   "cell_type": "code",
   "execution_count": 4,
   "id": "9c2abea0-75e1-4dc7-ba2a-8c1f6277ddd1",
   "metadata": {},
   "outputs": [],
   "source": [
    "test_exam_obj = test2()"
   ]
  },
  {
   "cell_type": "code",
   "execution_count": 5,
   "id": "715bce26-b873-4547-b847-128a92c11076",
   "metadata": {},
   "outputs": [
    {
     "name": "stdout",
     "output_type": "stream",
     "text": [
      "this is my new exam\n"
     ]
    }
   ],
   "source": [
    "test_exam_obj.test_exam()"
   ]
  }
 ],
 "metadata": {
  "kernelspec": {
   "display_name": "Python 3 (ipykernel)",
   "language": "python",
   "name": "python3"
  },
  "language_info": {
   "codemirror_mode": {
    "name": "ipython",
    "version": 3
   },
   "file_extension": ".py",
   "mimetype": "text/x-python",
   "name": "python",
   "nbconvert_exporter": "python",
   "pygments_lexer": "ipython3",
   "version": "3.10.8"
  }
 },
 "nbformat": 4,
 "nbformat_minor": 5
}
